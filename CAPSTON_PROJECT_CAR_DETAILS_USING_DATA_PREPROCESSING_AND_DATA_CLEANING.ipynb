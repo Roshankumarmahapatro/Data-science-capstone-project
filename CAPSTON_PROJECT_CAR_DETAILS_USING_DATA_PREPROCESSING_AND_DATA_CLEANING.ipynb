{
  "nbformat": 4,
  "nbformat_minor": 0,
  "metadata": {
    "colab": {
      "provenance": []
    },
    "kernelspec": {
      "name": "python3",
      "display_name": "Python 3"
    },
    "language_info": {
      "name": "python"
    }
  },
  "cells": [
    {
      "cell_type": "markdown",
      "source": [
        "# **car details dataset apply data preprocessing and data cleaning**"
      ],
      "metadata": {
        "id": "LeR784qi5cxO"
      }
    },
    {
      "cell_type": "code",
      "source": [
        "import pandas as pd\n",
        "import numpy as np"
      ],
      "metadata": {
        "id": "uNEzKzi05ygK"
      },
      "execution_count": 21,
      "outputs": []
    },
    {
      "cell_type": "markdown",
      "source": [
        "Load the dataset:"
      ],
      "metadata": {
        "id": "HbCk5E6E6qND"
      }
    },
    {
      "cell_type": "code",
      "source": [
        "df = pd.read_csv('/content/CAR DETAILS.csv')\n"
      ],
      "metadata": {
        "id": "9quJde-i6sPJ"
      },
      "execution_count": 22,
      "outputs": []
    },
    {
      "cell_type": "markdown",
      "source": [
        "Explore the dataset:"
      ],
      "metadata": {
        "id": "jG11PKxG7Dy0"
      }
    },
    {
      "cell_type": "code",
      "source": [
        "# Display the first few rows\n",
        "print(df.head())\n",
        "\n",
        "# Check the data types of columns\n",
        "print(df.dtypes)\n",
        "\n",
        "# Check for missing values\n",
        "print(df.isnull().sum())\n",
        "\n",
        "# Check for duplicates\n",
        "print(df.duplicated().sum())"
      ],
      "metadata": {
        "colab": {
          "base_uri": "https://localhost:8080/"
        },
        "id": "LnHfkbYo7CIZ",
        "outputId": "798b00b5-4370-4ab6-9dd4-1060d1b5cbf9"
      },
      "execution_count": 23,
      "outputs": [
        {
          "output_type": "stream",
          "name": "stdout",
          "text": [
            "                       name  year  selling_price  km_driven    fuel  \\\n",
            "0             Maruti 800 AC  2007          60000      70000  Petrol   \n",
            "1  Maruti Wagon R LXI Minor  2007         135000      50000  Petrol   \n",
            "2      Hyundai Verna 1.6 SX  2012         600000     100000  Diesel   \n",
            "3    Datsun RediGO T Option  2017         250000      46000  Petrol   \n",
            "4     Honda Amaze VX i-DTEC  2014         450000     141000  Diesel   \n",
            "\n",
            "  seller_type transmission         owner  \n",
            "0  Individual       Manual   First Owner  \n",
            "1  Individual       Manual   First Owner  \n",
            "2  Individual       Manual   First Owner  \n",
            "3  Individual       Manual   First Owner  \n",
            "4  Individual       Manual  Second Owner  \n",
            "name             object\n",
            "year              int64\n",
            "selling_price     int64\n",
            "km_driven         int64\n",
            "fuel             object\n",
            "seller_type      object\n",
            "transmission     object\n",
            "owner            object\n",
            "dtype: object\n",
            "name             0\n",
            "year             0\n",
            "selling_price    0\n",
            "km_driven        0\n",
            "fuel             0\n",
            "seller_type      0\n",
            "transmission     0\n",
            "owner            0\n",
            "dtype: int64\n",
            "763\n"
          ]
        }
      ]
    },
    {
      "cell_type": "markdown",
      "source": [
        "Handle missing values:\n",
        "Depending on the dataset, you may encounter missing values. Here are a few strategies to handle them:\n",
        "\n",
        "Drop rows with missing values:"
      ],
      "metadata": {
        "id": "J244PEue7dl2"
      }
    },
    {
      "cell_type": "code",
      "source": [
        "df.dropna(inplace=True)"
      ],
      "metadata": {
        "id": "TxgXokJk7iqI"
      },
      "execution_count": 24,
      "outputs": []
    },
    {
      "cell_type": "markdown",
      "source": [
        "Fill missing values with a specific value:"
      ],
      "metadata": {
        "id": "LzmkSWQQ9Tm1"
      }
    },
    {
      "cell_type": "code",
      "source": [
        "df['name'].fillna(0, inplace=True)"
      ],
      "metadata": {
        "id": "yot3M6ga9WN5"
      },
      "execution_count": 25,
      "outputs": []
    },
    {
      "cell_type": "markdown",
      "source": [
        "Fill missing values with the mean or median:"
      ],
      "metadata": {
        "id": "oyGyCzyf9Zzi"
      }
    },
    {
      "cell_type": "code",
      "source": [
        "mean_price = df['selling_price'].mean()\n",
        "df['selling_price'].fillna(mean_price, inplace=True)"
      ],
      "metadata": {
        "id": "3o8qLwps9eUH"
      },
      "execution_count": 26,
      "outputs": []
    },
    {
      "cell_type": "markdown",
      "source": [
        "Handle duplicates:\n",
        "If there are duplicate rows in the dataset, you can remove them using"
      ],
      "metadata": {
        "id": "5tAYwcSi9vo7"
      }
    },
    {
      "cell_type": "code",
      "source": [
        "df.drop_duplicates(inplace=True)"
      ],
      "metadata": {
        "id": "mLwLZulJ9xkG"
      },
      "execution_count": 27,
      "outputs": []
    },
    {
      "cell_type": "markdown",
      "source": [
        "Convert data types:\n",
        "\n",
        "Ensure that the data types of columns are appropriate for analysis. For example, convert the 'year' column to datetime if it is in string format:"
      ],
      "metadata": {
        "id": "WmaqS2Iv96Fs"
      }
    },
    {
      "cell_type": "code",
      "source": [
        "df['year'] = pd.to_datetime(df['year'])"
      ],
      "metadata": {
        "id": "0r1fk9mj97rN"
      },
      "execution_count": 28,
      "outputs": []
    },
    {
      "cell_type": "markdown",
      "source": [
        "Feature scaling:\n",
        "\n",
        "If necessary, you can apply feature scaling to numeric columns to bring them to a similar scale. This step is often performed when using machine learning algorithms. Here's an example of scaling the 'km_driven' column using Min-Max scaling:"
      ],
      "metadata": {
        "id": "A58W41uO-Kse"
      }
    },
    {
      "cell_type": "code",
      "source": [
        "from sklearn.preprocessing import MinMaxScaler\n",
        "\n",
        "scaler = MinMaxScaler()\n",
        "df['km_driven'] = scaler.fit_transform(df['km_driven'].values.reshape(-1, 1))"
      ],
      "metadata": {
        "id": "pvnxXd8C-Ni-"
      },
      "execution_count": 29,
      "outputs": []
    }
  ]
}